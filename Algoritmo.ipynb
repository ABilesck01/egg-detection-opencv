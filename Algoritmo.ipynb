{
 "cells": [
  {
   "cell_type": "markdown",
   "id": "d80f1607",
   "metadata": {},
   "source": [
    "# Segmentação de Ovos com Processamento Digital de Imagens\n",
    "Este notebook realiza a segmentação automática de ovos com base no artigo:\n",
    "**“Implementação de algoritmo de processamento digital de imagens para segmentação de ovos de galinha”**\n",
    "\n",
    "**Bibliotecas utilizadas:** OpenCV, NumPy e Matplotlib\n",
    "Cada etapa será documentada com base nas práticas do artigo e nas documentações oficiais das bibliotecas."
   ]
  },
  {
   "cell_type": "code",
   "execution_count": null,
   "id": "f09c4b36",
   "metadata": {},
   "outputs": [],
   "source": [
    "!pip install opencv-python-headless numpy matplotlib\n"
   ]
  },
  {
   "cell_type": "markdown",
   "id": "c880d529",
   "metadata": {},
   "source": [
    "## Etapa 1: Importação das bibliotecas\n",
    "- `cv2`: biblioteca OpenCV para manipulação de imagens\n",
    "- `numpy`: manipulação numérica\n",
    "- `matplotlib`: visualização dos resultados\n",
    "- `itertools.combinations`: para conectar componentes na visualização\n",
    "- `os`: manipulação de diretórios"
   ]
  },
  {
   "cell_type": "code",
   "execution_count": 18,
   "id": "b248a6d1",
   "metadata": {},
   "outputs": [],
   "source": [
    "import cv2\n",
    "import numpy as np\n",
    "import matplotlib.pyplot as plt\n",
    "from matplotlib.patches import Rectangle\n",
    "from itertools import combinations\n",
    "import os"
   ]
  },
  {
   "cell_type": "markdown",
   "id": "4b896e72",
   "metadata": {},
   "source": [
    "## Etapa 2: Aquisição da imagem\n",
    "A imagem é carregada a partir de um caminho local. O OpenCV utiliza `cv2.imread()` para ler arquivos de imagem.\n",
    "Se a imagem não for encontrada, `None` será retornado."
   ]
  },
  {
   "cell_type": "code",
   "execution_count": null,
   "id": "16d884fb",
   "metadata": {},
   "outputs": [],
   "source": [
    "image_path = \"ovos.png\"  # Exemplo: 'dados/ovos_grade.jpg'\n",
    "image = cv2.imread(image_path)\n",
    "\n",
    "# Exibe a imagem original\n",
    "plt.figure(figsize=(8, 6))\n",
    "plt.imshow(cv2.cvtColor(image, cv2.COLOR_BGR2RGB))\n",
    "plt.title(\"Imagem Original - Aquisição\")\n",
    "plt.axis(\"off\")\n",
    "plt.show()"
   ]
  },
  {
   "cell_type": "markdown",
   "id": "0a7b4a8e",
   "metadata": {},
   "source": [
    "## Etapa 3: Pré-processamento\n",
    "### 3.1 Conversão para escala de cinza\n",
    "Transforma a imagem para tons de cinza com `cv2.cvtColor()`.\n",
    "Segundo o artigo e a documentação do OpenCV, isso reduz a complexidade e é essencial para etapas como detecção de bordas."
   ]
  },
  {
   "cell_type": "code",
   "execution_count": null,
   "id": "104787f5",
   "metadata": {},
   "outputs": [],
   "source": [
    "gray = cv2.cvtColor(image, cv2.COLOR_BGR2GRAY)\n",
    "\n",
    "plt.imshow(gray, cmap='gray')\n",
    "plt.title(\"Imagem em Escala de Cinza\")\n",
    "plt.axis(\"off\")\n",
    "plt.show()"
   ]
  },
  {
   "cell_type": "markdown",
   "id": "0a46ecd0",
   "metadata": {},
   "source": [
    "### 3.2 Suavização com Filtro Gaussiano\n",
    "Aplicado com `cv2.GaussianBlur()` para reduzir ruídos e suavizar detalhes menores, facilitando a detecção de bordas.\n",
    "Conforme o artigo, é uma etapa crítica antes do uso do algoritmo de Canny."
   ]
  },
  {
   "cell_type": "code",
   "execution_count": null,
   "id": "36e209fa",
   "metadata": {},
   "outputs": [],
   "source": [
    "blurred = cv2.GaussianBlur(gray, (5, 5), 0)\n",
    "\n",
    "plt.imshow(blurred, cmap='gray')\n",
    "plt.title(\"Imagem Suavizada - Filtro Gaussiano\")\n",
    "plt.axis(\"off\")\n",
    "plt.show()"
   ]
  },
  {
   "cell_type": "markdown",
   "id": "8f4d18cf",
   "metadata": {},
   "source": [
    "### 3.3 Detecção de Bordas com Canny\n",
    "O algoritmo de Canny é utilizado para detectar bordas com base nos gradientes de intensidade.\n",
    "A documentação do OpenCV recomenda essa técnica como robusta para detecção de contornos."
   ]
  },
  {
   "cell_type": "code",
   "execution_count": null,
   "id": "51feba16",
   "metadata": {},
   "outputs": [],
   "source": [
    "edges = cv2.Canny(blurred, 30, 150)\n",
    "\n",
    "plt.imshow(edges, cmap='gray')\n",
    "plt.title(\"Detecção de Bordas - Canny\")\n",
    "plt.axis(\"off\")\n",
    "plt.show()"
   ]
  },
  {
   "cell_type": "markdown",
   "id": "e89431a0",
   "metadata": {},
   "source": [
    "## Etapa 4: Extração de Contornos\n",
    "Utiliza `cv2.findContours()` para extrair os contornos externos na imagem de bordas. Depois, filtra os contornos com área suficiente para evitar ruídos."
   ]
  },
  {
   "cell_type": "code",
   "execution_count": null,
   "id": "140ef732",
   "metadata": {},
   "outputs": [],
   "source": [
    "contours, _ = cv2.findContours(edges, cv2.RETR_EXTERNAL, cv2.CHAIN_APPROX_SIMPLE)\n",
    "rectangles = [cv2.boundingRect(c) for c in contours if cv2.contourArea(c) > 100]\n",
    "\n",
    "image_copy = image.copy()\n",
    "for (x, y, w, h) in rectangles:\n",
    "    cv2.rectangle(image_copy, (x, y), (x + w, y + h), (0, 255, 0), 2)\n",
    "\n",
    "plt.imshow(cv2.cvtColor(image_copy, cv2.COLOR_BGR2RGB))\n",
    "plt.title(\"Contornos Detectados\")\n",
    "plt.axis(\"off\")\n",
    "plt.show()\n"
   ]
  },
  {
   "cell_type": "markdown",
   "id": "670f70ce",
   "metadata": {},
   "source": [
    "### Agrupamento de ovos por linha\n",
    "Agrupa os ovos detectados em diferentes linhas com base na coordenada vertical dos centróides dos retângulos. Isso facilita a ordenação e nomeação dos arquivos."
   ]
  },
  {
   "cell_type": "code",
   "execution_count": 56,
   "id": "3494a45c",
   "metadata": {},
   "outputs": [],
   "source": [
    "def calculate_centroid(rect):\n",
    "    x, y, w, h = rect\n",
    "    return (x + w // 2, y + h // 2)\n",
    "\n",
    "def search_components(start_rect, rectangles, visited, max_distance=20):\n",
    "    connected = []\n",
    "    stack = [start_rect]\n",
    "\n",
    "    while stack:\n",
    "        rect = stack.pop()\n",
    "        if rect not in visited:\n",
    "            connected.append(rect)\n",
    "            visited.add(rect)\n",
    "            cy1 = calculate_centroid(rect)[1]\n",
    "            for other in rectangles:\n",
    "                if other not in visited:\n",
    "                    cy2 = calculate_centroid(other)[1]\n",
    "                    if abs(cy1 - cy2) < max_distance:\n",
    "                        stack.append(other)\n",
    "    return connected\n",
    "\n",
    "visited = set()\n",
    "connected_components = []\n",
    "\n",
    "for rect in rectangles:\n",
    "    if rect not in visited:\n",
    "        group = search_components(rect, rectangles, visited)\n",
    "        connected_components.append(group)\n",
    "\n",
    "# Ordena os grupos pela coordenada vertical\n",
    "connected_components.sort(key=lambda comp: calculate_centroid(comp[0])[1])\n"
   ]
  },
  {
   "cell_type": "markdown",
   "id": "0383ee2f",
   "metadata": {},
   "source": [
    "### Salvamento das imagens segmentadas\n",
    "Salva cada ovo segmentado como uma imagem individual na pasta `eggs_segmented`, nomeando os arquivos conforme sua posição."
   ]
  },
  {
   "cell_type": "code",
   "execution_count": 57,
   "id": "dfa7d2af",
   "metadata": {},
   "outputs": [],
   "source": [
    "os.makedirs(\"eggs_segmented\", exist_ok=True)\n",
    "\n",
    "for i, component in enumerate(connected_components):\n",
    "    component.sort(key=lambda r: calculate_centroid(r)[0])  # Ordena pela horizontal\n",
    "    for j, (x, y, w, h) in enumerate(component):\n",
    "        crop = image[y:y+h, x:x+w]\n",
    "        filename = f\"eggs_segmented/row{i+1}_egg{j+1}.png\"\n",
    "        cv2.imwrite(filename, crop)\n"
   ]
  },
  {
   "cell_type": "markdown",
   "id": "fcdd25b7",
   "metadata": {},
   "source": [
    "### Visualização final com linhas entre ovos da mesma fileira\n",
    "Conecta os centróides dos ovos em cada linha com linhas tracejadas, ajudando a visualizar a distribuição espacial."
   ]
  },
  {
   "cell_type": "code",
   "execution_count": null,
   "id": "54b40080",
   "metadata": {},
   "outputs": [],
   "source": [
    "fig, ax = plt.subplots()\n",
    "ax.imshow(cv2.cvtColor(image, cv2.COLOR_BGR2RGB))\n",
    "\n",
    "for group in connected_components:\n",
    "    for (x, y, w, h) in group:\n",
    "        ax.add_patch(Rectangle((x, y), w, h, edgecolor='red', fill=False, linewidth=2))\n",
    "    for r1, r2 in combinations(group, 2):\n",
    "        c1 = calculate_centroid(r1)\n",
    "        c2 = calculate_centroid(r2)\n",
    "        ax.plot([c1[0], c2[0]], [c1[1], c2[1]], 'r--')\n",
    "\n",
    "ax.set_title(\"Segmentação Final dos Ovos\")\n",
    "ax.axis(\"off\")\n",
    "plt.show()\n"
   ]
  },
  {
   "cell_type": "markdown",
   "id": "58016150",
   "metadata": {},
   "source": [
    "### Numeração dos ovos na imagem\n",
    "Adiciona numeração visual em cada ovo detectado, facilitando a contagem manual e a verificação dos resultados."
   ]
  },
  {
   "cell_type": "code",
   "execution_count": null,
   "id": "986fb8c0",
   "metadata": {},
   "outputs": [],
   "source": [
    "fig, ax = plt.subplots()\n",
    "ax.imshow(cv2.cvtColor(image, cv2.COLOR_BGR2RGB))\n",
    "\n",
    "count = 1\n",
    "for group in connected_components:\n",
    "    for (x, y, w, h) in group:\n",
    "        ax.add_patch(Rectangle((x, y), w, h, edgecolor='red', fill=False, linewidth=2))\n",
    "        cx, cy = x + w // 2, y + h // 2\n",
    "        ax.text(cx, cy, str(count), color='yellow', fontsize=10, ha='center')\n",
    "        count += 1\n",
    "\n",
    "ax.set_title(\"Segmentação com Numeração dos Ovos\")\n",
    "ax.axis(\"off\")\n",
    "plt.show()"
   ]
  }
 ],
 "metadata": {
  "kernelspec": {
   "display_name": "venv",
   "language": "python",
   "name": "python3"
  },
  "language_info": {
   "codemirror_mode": {
    "name": "ipython",
    "version": 3
   },
   "file_extension": ".py",
   "mimetype": "text/x-python",
   "name": "python",
   "nbconvert_exporter": "python",
   "pygments_lexer": "ipython3",
   "version": "3.13.2"
  }
 },
 "nbformat": 4,
 "nbformat_minor": 5
}
